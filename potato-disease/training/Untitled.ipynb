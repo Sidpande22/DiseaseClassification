{
 "cells": [
  {
   "cell_type": "code",
   "execution_count": 26,
   "id": "aa2b8dcb",
   "metadata": {},
   "outputs": [],
   "source": [
    "import tensorflow as tf\n",
    "from tensorflow.keras import models, layers\n",
    "import matplotlib.pyplot as plt\n",
    "from IPython.display import HTML\n",
    "\n",
    "from tensorflow.keras.preprocessing.image import ImageDataGenerator"
   ]
  },
  {
   "cell_type": "code",
   "execution_count": 30,
   "id": "b17d15eb",
   "metadata": {},
   "outputs": [
    {
     "name": "stdout",
     "output_type": "stream",
     "text": [
      "Found 0 images belonging to 0 classes.\n"
     ]
    }
   ],
   "source": [
    "train_datagen = ImageDataGenerator(\n",
    "        rescale=1./255,\n",
    "        rotation_range=10,\n",
    "        horizontal_flip=True\n",
    ")\n",
    "train_generator = train_datagen.flow_from_directory(\n",
    "        'dataset/train',\n",
    "        target_size=(IMAGE_SIZE,IMAGE_SIZE),\n",
    "        batch_size=32,\n",
    "        class_mode=\"sparse\",\n",
    "#         save_to_dir=\"C:\\\\Code\\\\potato-disease-classification\\\\training\\\\AugmentedImages\"\n",
    ")"
   ]
  },
  {
   "cell_type": "code",
   "execution_count": 19,
   "id": "6e106c7d",
   "metadata": {},
   "outputs": [
    {
     "data": {
      "text/plain": [
       "{}"
      ]
     },
     "execution_count": 19,
     "metadata": {},
     "output_type": "execute_result"
    }
   ],
   "source": [
    "train_generator.class_indices"
   ]
  },
  {
   "cell_type": "code",
   "execution_count": 20,
   "id": "71b66304",
   "metadata": {},
   "outputs": [
    {
     "data": {
      "text/plain": [
       "[]"
      ]
     },
     "execution_count": 20,
     "metadata": {},
     "output_type": "execute_result"
    }
   ],
   "source": [
    "class_names = list(train_generator.class_indices.keys())\n",
    "class_names"
   ]
  },
  {
   "cell_type": "code",
   "execution_count": 21,
   "id": "05f9c432",
   "metadata": {},
   "outputs": [
    {
     "ename": "IndexError",
     "evalue": "index 0 is out of bounds for axis 0 with size 0",
     "output_type": "error",
     "traceback": [
      "\u001b[1;31m---------------------------------------------------------------------------\u001b[0m",
      "\u001b[1;31mIndexError\u001b[0m                                Traceback (most recent call last)",
      "Cell \u001b[1;32mIn[21], line 4\u001b[0m\n\u001b[0;32m      1\u001b[0m count\u001b[38;5;241m=\u001b[39m\u001b[38;5;241m0\u001b[39m\n\u001b[0;32m      2\u001b[0m \u001b[38;5;28;01mfor\u001b[39;00m image_batch, label_batch \u001b[38;5;129;01min\u001b[39;00m train_generator:\n\u001b[0;32m      3\u001b[0m \u001b[38;5;66;03m#     print(label_batch)\u001b[39;00m\n\u001b[1;32m----> 4\u001b[0m     \u001b[38;5;28mprint\u001b[39m(image_batch[\u001b[38;5;241m0\u001b[39m])\n\u001b[0;32m      5\u001b[0m     \u001b[38;5;28;01mbreak\u001b[39;00m\n",
      "\u001b[1;31mIndexError\u001b[0m: index 0 is out of bounds for axis 0 with size 0"
     ]
    }
   ],
   "source": [
    "count=0\n",
    "for image_batch, label_batch in train_generator:\n",
    "#     print(label_batch)\n",
    "    print(image_batch[0])\n",
    "    break\n",
    "#     count+=1\n",
    "#     if count>2:\n",
    "#         break"
   ]
  },
  {
   "cell_type": "code",
   "execution_count": 22,
   "id": "dbee9f6e",
   "metadata": {},
   "outputs": [
    {
     "name": "stdout",
     "output_type": "stream",
     "text": [
      "Found 0 images belonging to 0 classes.\n"
     ]
    }
   ],
   "source": [
    "validation_datagen = ImageDataGenerator(\n",
    "        rescale=1./255,\n",
    "        rotation_range=10,\n",
    "        horizontal_flip=True)\n",
    "validation_generator = validation_datagen.flow_from_directory(\n",
    "        'dataset/val',\n",
    "        target_size=(IMAGE_SIZE,IMAGE_SIZE),\n",
    "        batch_size=32,\n",
    "        class_mode=\"sparse\"\n",
    ")"
   ]
  },
  {
   "cell_type": "code",
   "execution_count": 23,
   "id": "190a24fa",
   "metadata": {},
   "outputs": [
    {
     "name": "stdout",
     "output_type": "stream",
     "text": [
      "Found 0 images belonging to 0 classes.\n"
     ]
    }
   ],
   "source": [
    "test_datagen = ImageDataGenerator(\n",
    "        rescale=1./255,\n",
    "        rotation_range=10,\n",
    "        horizontal_flip=True)\n",
    "\n",
    "test_generator = test_datagen.flow_from_directory(\n",
    "        'dataset/test',\n",
    "        target_size=(IMAGE_SIZE,IMAGE_SIZE),\n",
    "        batch_size=32,\n",
    "        class_mode=\"sparse\"\n",
    ")"
   ]
  },
  {
   "cell_type": "code",
   "execution_count": 24,
   "id": "05045ca6",
   "metadata": {},
   "outputs": [
    {
     "ename": "IndexError",
     "evalue": "index 0 is out of bounds for axis 0 with size 0",
     "output_type": "error",
     "traceback": [
      "\u001b[1;31m---------------------------------------------------------------------------\u001b[0m",
      "\u001b[1;31mIndexError\u001b[0m                                Traceback (most recent call last)",
      "Cell \u001b[1;32mIn[24], line 2\u001b[0m\n\u001b[0;32m      1\u001b[0m \u001b[38;5;28;01mfor\u001b[39;00m image_batch, label_batch \u001b[38;5;129;01min\u001b[39;00m test_generator:\n\u001b[1;32m----> 2\u001b[0m     \u001b[38;5;28mprint\u001b[39m(image_batch[\u001b[38;5;241m0\u001b[39m])\n\u001b[0;32m      3\u001b[0m     \u001b[38;5;28;01mbreak\u001b[39;00m\n",
      "\u001b[1;31mIndexError\u001b[0m: index 0 is out of bounds for axis 0 with size 0"
     ]
    }
   ],
   "source": [
    "for image_batch, label_batch in test_generator:\n",
    "    print(image_batch[0])\n",
    "    break"
   ]
  },
  {
   "cell_type": "code",
   "execution_count": 25,
   "id": "842610a7",
   "metadata": {},
   "outputs": [],
   "source": [
    "input_shape = (IMAGE_SIZE, IMAGE_SIZE, CHANNELS)\n",
    "n_classes = 3\n",
    "\n",
    "model = models.Sequential([\n",
    "    layers.InputLayer(input_shape=input_shape),\n",
    "    layers.Conv2D(32, kernel_size = (3,3), activation='relu'),\n",
    "    layers.MaxPooling2D((2, 2)),\n",
    "    layers.Conv2D(64,  kernel_size = (3,3), activation='relu'),\n",
    "    layers.MaxPooling2D((2, 2)),\n",
    "    layers.Conv2D(64,  kernel_size = (3,3), activation='relu'),\n",
    "    layers.MaxPooling2D((2, 2)),\n",
    "    layers.Conv2D(64, (3, 3), activation='relu'),\n",
    "    layers.MaxPooling2D((2, 2)),\n",
    "    layers.Conv2D(64, (3, 3), activation='relu'),\n",
    "    layers.MaxPooling2D((2, 2)),\n",
    "    layers.Conv2D(64, (3, 3), activation='relu'),\n",
    "    layers.MaxPooling2D((2, 2)),\n",
    "    layers.Flatten(),\n",
    "    layers.Dense(64, activation='relu'),\n",
    "    layers.Dense(n_classes, activation='softmax'),\n",
    "])"
   ]
  },
  {
   "cell_type": "code",
   "execution_count": 31,
   "id": "63d9f106",
   "metadata": {},
   "outputs": [
    {
     "name": "stdout",
     "output_type": "stream",
     "text": [
      "Model: \"sequential\"\n",
      "_________________________________________________________________\n",
      " Layer (type)                Output Shape              Param #   \n",
      "=================================================================\n",
      " conv2d (Conv2D)             (None, 254, 254, 32)      896       \n",
      "                                                                 \n",
      " max_pooling2d (MaxPooling2  (None, 127, 127, 32)      0         \n",
      " D)                                                              \n",
      "                                                                 \n",
      " conv2d_1 (Conv2D)           (None, 125, 125, 64)      18496     \n",
      "                                                                 \n",
      " max_pooling2d_1 (MaxPoolin  (None, 62, 62, 64)        0         \n",
      " g2D)                                                            \n",
      "                                                                 \n",
      " conv2d_2 (Conv2D)           (None, 60, 60, 64)        36928     \n",
      "                                                                 \n",
      " max_pooling2d_2 (MaxPoolin  (None, 30, 30, 64)        0         \n",
      " g2D)                                                            \n",
      "                                                                 \n",
      " conv2d_3 (Conv2D)           (None, 28, 28, 64)        36928     \n",
      "                                                                 \n",
      " max_pooling2d_3 (MaxPoolin  (None, 14, 14, 64)        0         \n",
      " g2D)                                                            \n",
      "                                                                 \n",
      " conv2d_4 (Conv2D)           (None, 12, 12, 64)        36928     \n",
      "                                                                 \n",
      " max_pooling2d_4 (MaxPoolin  (None, 6, 6, 64)          0         \n",
      " g2D)                                                            \n",
      "                                                                 \n",
      " conv2d_5 (Conv2D)           (None, 4, 4, 64)          36928     \n",
      "                                                                 \n",
      " max_pooling2d_5 (MaxPoolin  (None, 2, 2, 64)          0         \n",
      " g2D)                                                            \n",
      "                                                                 \n",
      " flatten (Flatten)           (None, 256)               0         \n",
      "                                                                 \n",
      " dense (Dense)               (None, 64)                16448     \n",
      "                                                                 \n",
      " dense_1 (Dense)             (None, 3)                 195       \n",
      "                                                                 \n",
      "=================================================================\n",
      "Total params: 183747 (717.76 KB)\n",
      "Trainable params: 183747 (717.76 KB)\n",
      "Non-trainable params: 0 (0.00 Byte)\n",
      "_________________________________________________________________\n"
     ]
    }
   ],
   "source": [
    "model.summary()"
   ]
  },
  {
   "cell_type": "code",
   "execution_count": 32,
   "id": "f76d8c2b",
   "metadata": {},
   "outputs": [],
   "source": [
    "model.compile(\n",
    "    optimizer='adam',\n",
    "    loss=tf.keras.losses.SparseCategoricalCrossentropy(from_logits=False),\n",
    "    metrics=['accuracy']\n",
    ")"
   ]
  },
  {
   "cell_type": "code",
   "execution_count": 33,
   "id": "0613ccf3",
   "metadata": {},
   "outputs": [
    {
     "data": {
      "text/plain": [
       "47.0625"
      ]
     },
     "execution_count": 33,
     "metadata": {},
     "output_type": "execute_result"
    }
   ],
   "source": [
    "1506/32"
   ]
  },
  {
   "cell_type": "code",
   "execution_count": 34,
   "id": "1d5f599d",
   "metadata": {},
   "outputs": [
    {
     "data": {
      "text/plain": [
       "6.71875"
      ]
     },
     "execution_count": 34,
     "metadata": {},
     "output_type": "execute_result"
    }
   ],
   "source": [
    "215/32"
   ]
  },
  {
   "cell_type": "code",
   "execution_count": 35,
   "id": "700a5aa3",
   "metadata": {},
   "outputs": [
    {
     "ename": "ValueError",
     "evalue": "Asked to retrieve element 0, but the Sequence has length 0",
     "output_type": "error",
     "traceback": [
      "\u001b[1;31m---------------------------------------------------------------------------\u001b[0m",
      "\u001b[1;31mValueError\u001b[0m                                Traceback (most recent call last)",
      "Cell \u001b[1;32mIn[35], line 1\u001b[0m\n\u001b[1;32m----> 1\u001b[0m history \u001b[38;5;241m=\u001b[39m model\u001b[38;5;241m.\u001b[39mfit(\n\u001b[0;32m      2\u001b[0m     train_generator,\n\u001b[0;32m      3\u001b[0m     steps_per_epoch\u001b[38;5;241m=\u001b[39m\u001b[38;5;241m47\u001b[39m,\n\u001b[0;32m      4\u001b[0m     batch_size\u001b[38;5;241m=\u001b[39m\u001b[38;5;241m32\u001b[39m,\n\u001b[0;32m      5\u001b[0m     validation_data\u001b[38;5;241m=\u001b[39mvalidation_generator,\n\u001b[0;32m      6\u001b[0m     validation_steps\u001b[38;5;241m=\u001b[39m\u001b[38;5;241m6\u001b[39m,\n\u001b[0;32m      7\u001b[0m     verbose\u001b[38;5;241m=\u001b[39m\u001b[38;5;241m1\u001b[39m,\n\u001b[0;32m      8\u001b[0m     epochs\u001b[38;5;241m=\u001b[39m\u001b[38;5;241m20\u001b[39m,\n\u001b[0;32m      9\u001b[0m )\n",
      "File \u001b[1;32m~\\anaconda3\\Lib\\site-packages\\keras\\src\\utils\\traceback_utils.py:70\u001b[0m, in \u001b[0;36mfilter_traceback.<locals>.error_handler\u001b[1;34m(*args, **kwargs)\u001b[0m\n\u001b[0;32m     67\u001b[0m     filtered_tb \u001b[38;5;241m=\u001b[39m _process_traceback_frames(e\u001b[38;5;241m.\u001b[39m__traceback__)\n\u001b[0;32m     68\u001b[0m     \u001b[38;5;66;03m# To get the full stack trace, call:\u001b[39;00m\n\u001b[0;32m     69\u001b[0m     \u001b[38;5;66;03m# `tf.debugging.disable_traceback_filtering()`\u001b[39;00m\n\u001b[1;32m---> 70\u001b[0m     \u001b[38;5;28;01mraise\u001b[39;00m e\u001b[38;5;241m.\u001b[39mwith_traceback(filtered_tb) \u001b[38;5;28;01mfrom\u001b[39;00m \u001b[38;5;28;01mNone\u001b[39;00m\n\u001b[0;32m     71\u001b[0m \u001b[38;5;28;01mfinally\u001b[39;00m:\n\u001b[0;32m     72\u001b[0m     \u001b[38;5;28;01mdel\u001b[39;00m filtered_tb\n",
      "File \u001b[1;32m~\\anaconda3\\Lib\\site-packages\\keras\\src\\preprocessing\\image.py:103\u001b[0m, in \u001b[0;36mIterator.__getitem__\u001b[1;34m(self, idx)\u001b[0m\n\u001b[0;32m    101\u001b[0m \u001b[38;5;28;01mdef\u001b[39;00m \u001b[38;5;21m__getitem__\u001b[39m(\u001b[38;5;28mself\u001b[39m, idx):\n\u001b[0;32m    102\u001b[0m     \u001b[38;5;28;01mif\u001b[39;00m idx \u001b[38;5;241m>\u001b[39m\u001b[38;5;241m=\u001b[39m \u001b[38;5;28mlen\u001b[39m(\u001b[38;5;28mself\u001b[39m):\n\u001b[1;32m--> 103\u001b[0m         \u001b[38;5;28;01mraise\u001b[39;00m \u001b[38;5;167;01mValueError\u001b[39;00m(\n\u001b[0;32m    104\u001b[0m             \u001b[38;5;124m\"\u001b[39m\u001b[38;5;124mAsked to retrieve element \u001b[39m\u001b[38;5;132;01m{idx}\u001b[39;00m\u001b[38;5;124m, \u001b[39m\u001b[38;5;124m\"\u001b[39m\n\u001b[0;32m    105\u001b[0m             \u001b[38;5;124m\"\u001b[39m\u001b[38;5;124mbut the Sequence \u001b[39m\u001b[38;5;124m\"\u001b[39m\n\u001b[0;32m    106\u001b[0m             \u001b[38;5;124m\"\u001b[39m\u001b[38;5;124mhas length \u001b[39m\u001b[38;5;132;01m{length}\u001b[39;00m\u001b[38;5;124m\"\u001b[39m\u001b[38;5;241m.\u001b[39mformat(idx\u001b[38;5;241m=\u001b[39midx, length\u001b[38;5;241m=\u001b[39m\u001b[38;5;28mlen\u001b[39m(\u001b[38;5;28mself\u001b[39m))\n\u001b[0;32m    107\u001b[0m         )\n\u001b[0;32m    108\u001b[0m     \u001b[38;5;28;01mif\u001b[39;00m \u001b[38;5;28mself\u001b[39m\u001b[38;5;241m.\u001b[39mseed \u001b[38;5;129;01mis\u001b[39;00m \u001b[38;5;129;01mnot\u001b[39;00m \u001b[38;5;28;01mNone\u001b[39;00m:\n\u001b[0;32m    109\u001b[0m         np\u001b[38;5;241m.\u001b[39mrandom\u001b[38;5;241m.\u001b[39mseed(\u001b[38;5;28mself\u001b[39m\u001b[38;5;241m.\u001b[39mseed \u001b[38;5;241m+\u001b[39m \u001b[38;5;28mself\u001b[39m\u001b[38;5;241m.\u001b[39mtotal_batches_seen)\n",
      "\u001b[1;31mValueError\u001b[0m: Asked to retrieve element 0, but the Sequence has length 0"
     ]
    }
   ],
   "source": [
    "history = model.fit(\n",
    "    train_generator,\n",
    "    steps_per_epoch=47,\n",
    "    batch_size=32,\n",
    "    validation_data=validation_generator,\n",
    "    validation_steps=6,\n",
    "    verbose=1,\n",
    "    epochs=20,\n",
    ")"
   ]
  },
  {
   "cell_type": "code",
   "execution_count": 39,
   "id": "c8603278",
   "metadata": {},
   "outputs": [
    {
     "ename": "NameError",
     "evalue": "name 'history' is not defined",
     "output_type": "error",
     "traceback": [
      "\u001b[1;31m---------------------------------------------------------------------------\u001b[0m",
      "\u001b[1;31mNameError\u001b[0m                                 Traceback (most recent call last)",
      "Cell \u001b[1;32mIn[39], line 1\u001b[0m\n\u001b[1;32m----> 1\u001b[0m history\u001b[38;5;241m.\u001b[39mparams\n",
      "\u001b[1;31mNameError\u001b[0m: name 'history' is not defined"
     ]
    }
   ],
   "source": [
    "history.params"
   ]
  },
  {
   "cell_type": "code",
   "execution_count": 37,
   "id": "e55d0b35",
   "metadata": {},
   "outputs": [
    {
     "ename": "NameError",
     "evalue": "name 'history' is not defined",
     "output_type": "error",
     "traceback": [
      "\u001b[1;31m---------------------------------------------------------------------------\u001b[0m",
      "\u001b[1;31mNameError\u001b[0m                                 Traceback (most recent call last)",
      "Cell \u001b[1;32mIn[37], line 1\u001b[0m\n\u001b[1;32m----> 1\u001b[0m history\u001b[38;5;241m.\u001b[39mhistory\u001b[38;5;241m.\u001b[39mkeys()\n",
      "\u001b[1;31mNameError\u001b[0m: name 'history' is not defined"
     ]
    }
   ],
   "source": [
    "history.history.keys()"
   ]
  },
  {
   "cell_type": "code",
   "execution_count": 38,
   "id": "83663e64",
   "metadata": {},
   "outputs": [
    {
     "name": "stdout",
     "output_type": "stream",
     "text": [
      "import tensorflow as tf\n",
      "from tensorflow.keras import models, layers\n",
      "import matplotlib.pyplot as plt\n",
      "from IPython.display import HTML\n",
      "\n",
      "from tensorflow.keras.preprocessing.image import ImageDataGenerator\n",
      "IMAGE_SIZE = 256\n",
      "CHANNELS = 3\n",
      "from tensorflow.keras.preprocessing.image import ImageDataGenerator\n",
      "\n",
      "train_datagen = ImageDataGenerator(\n",
      "        rescale=1./255,\n",
      "        rotation_range=10,\n",
      "        horizontal_flip=True\n",
      ")\n",
      "train_generator = train_datagen.flow_from_directory(\n",
      "        'dataset/train',\n",
      "        target_size=(IMAGE_SIZE,IMAGE_SIZE),\n",
      "        batch_size=32,\n",
      "        class_mode=\"sparse\",\n",
      "#         save_to_dir=\"C:\\\\Code\\\\potato-disease-classification\\\\training\\\\AugmentedImages\"\n",
      ")\n",
      "import tensorflow as tf\n",
      "from tensorflow.keras import models, layers\n",
      "import matplotlib.pyplot as plt\n",
      "from IPython.display import HTML\n",
      "IMAGE_SIZE = 256\n",
      "CHANNELS = 3\n",
      "from tensorflow.keras.preprocessing.image import ImageDataGenerator\n",
      "\n",
      "train_datagen = ImageDataGenerator(\n",
      "        rescale=1./255,\n",
      "        rotation_range=10,\n",
      "        horizontal_flip=True\n",
      ")\n",
      "train_generator = train_datagen.flow_from_directory(\n",
      "        'dataset/train',\n",
      "        target_size=(IMAGE_SIZE,IMAGE_SIZE),\n",
      "        batch_size=32,\n",
      "        class_mode=\"sparse\",\n",
      "#         save_to_dir=\"C:\\\\Code\\\\potato-disease-classification\\\\training\\\\AugmentedImages\"\n",
      ")\n",
      "import tensorflow as tf\n",
      "from tensorflow.keras import models, layers\n",
      "import matplotlib.pyplot as plt\n",
      "from IPython.display import HTML\n",
      "\n",
      "from tensorflow.keras.preprocessing.image import ImageDataGenerator\n",
      "train_datagen = ImageDataGenerator(\n",
      "        rescale=1./255,\n",
      "        rotation_range=10,\n",
      "        horizontal_flip=True\n",
      ")\n",
      "train_generator = train_datagen.flow_from_directory(\n",
      "        '/training',\n",
      "        target_size=(IMAGE_SIZE,IMAGE_SIZE),\n",
      "        batch_size=32,\n",
      "        class_mode=\"sparse\",\n",
      "#         save_to_dir=\"C:\\\\Code\\\\potato-disease-classification\\\\training\\\\AugmentedImages\"\n",
      ")\n",
      "train_datagen = ImageDataGenerator(\n",
      "        rescale=1./255,\n",
      "        rotation_range=10,\n",
      "        horizontal_flip=True\n",
      ")\n",
      "train_generator = train_datagen.flow_from_directory(\n",
      "        'dataset/train',\n",
      "        target_size=(IMAGE_SIZE,IMAGE_SIZE),\n",
      "        batch_size=32,\n",
      "        class_mode=\"sparse\",\n",
      "#         save_to_dir=\"C:\\\\Code\\\\potato-disease-classification\\\\training\\\\AugmentedImages\"\n",
      ")\n",
      "train_generator.class_indices\n",
      "class_names = list(train_generator.class_indices.keys())\n",
      "class_names\n",
      "count=0\n",
      "for image_batch, label_batch in train_generator:\n",
      "#     print(label_batch)\n",
      "    print(image_batch[0])\n",
      "    break\n",
      "#     count+=1\n",
      "#     if count>2:\n",
      "#         break\n",
      "train_datagen = ImageDataGenerator(\n",
      "        rescale=1./255,\n",
      "        rotation_range=10,\n",
      "        horizontal_flip=True\n",
      ")\n",
      "train_generator = train_datagen.flow_from_directory(\n",
      "        'dataset/train',\n",
      "        target_size=(IMAGE_SIZE,IMAGE_SIZE),\n",
      "        batch_size=32,\n",
      "        class_mode=\"sparse\",\n",
      "#         save_to_dir=\"C:\\\\Code\\\\potato-disease-classification\\\\training\\\\AugmentedImages\"\n",
      ")\n",
      "train_datagen = ImageDataGenerator(\n",
      "        rescale=1./255,\n",
      "        rotation_range=10,\n",
      "        horizontal_flip=True\n",
      ")\n",
      "train_generator = train_datagen.flow_from_directory(\n",
      "        'dataset/train',\n",
      "        target_size=(IMAGE_SIZE,IMAGE_SIZE),\n",
      "        batch_size=32,\n",
      "        class_mode=\"sparse\",\n",
      "#         save_to_dir=\"C:\\\\Code\\\\potato-disease-classification\\\\training\\\\AugmentedImages\"\n",
      ")\n",
      "train_generator.class_indices\n",
      "class_names = list(train_generator.class_indices.keys())\n",
      "class_names\n",
      "count=0\n",
      "for image_batch, label_batch in train_generator:\n",
      "#     print(label_batch)\n",
      "    print(image_batch[0])\n",
      "    break\n",
      "#     count+=1\n",
      "#     if count>2:\n",
      "#         break\n",
      "train_datagen = ImageDataGenerator(\n",
      "        rescale=1./255,\n",
      "        rotation_range=10,\n",
      "        horizontal_flip=True\n",
      ")\n",
      "train_generator = train_datagen.flow_from_directory(\n",
      "        'dataset/train',\n",
      "        target_size=(IMAGE_SIZE,IMAGE_SIZE),\n",
      "        batch_size=32,\n",
      "        class_mode=\"sparse\",\n",
      "#         save_to_dir=\"C:\\\\Code\\\\potato-disease-classification\\\\training\\\\AugmentedImages\"\n",
      ")\n",
      "train_generator.class_indices\n",
      "class_names = list(train_generator.class_indices.keys())\n",
      "class_names\n",
      "count=0\n",
      "for image_batch, label_batch in train_generator:\n",
      "#     print(label_batch)\n",
      "    print(image_batch[0])\n",
      "    break\n",
      "#     count+=1\n",
      "#     if count>2:\n",
      "#         break\n",
      "validation_datagen = ImageDataGenerator(\n",
      "        rescale=1./255,\n",
      "        rotation_range=10,\n",
      "        horizontal_flip=True)\n",
      "validation_generator = validation_datagen.flow_from_directory(\n",
      "        'dataset/val',\n",
      "        target_size=(IMAGE_SIZE,IMAGE_SIZE),\n",
      "        batch_size=32,\n",
      "        class_mode=\"sparse\"\n",
      ")\n",
      "test_datagen = ImageDataGenerator(\n",
      "        rescale=1./255,\n",
      "        rotation_range=10,\n",
      "        horizontal_flip=True)\n",
      "\n",
      "test_generator = test_datagen.flow_from_directory(\n",
      "        'dataset/test',\n",
      "        target_size=(IMAGE_SIZE,IMAGE_SIZE),\n",
      "        batch_size=32,\n",
      "        class_mode=\"sparse\"\n",
      ")\n",
      "for image_batch, label_batch in test_generator:\n",
      "    print(image_batch[0])\n",
      "    break\n",
      "input_shape = (IMAGE_SIZE, IMAGE_SIZE, CHANNELS)\n",
      "n_classes = 3\n",
      "\n",
      "model = models.Sequential([\n",
      "    layers.InputLayer(input_shape=input_shape),\n",
      "    layers.Conv2D(32, kernel_size = (3,3), activation='relu'),\n",
      "    layers.MaxPooling2D((2, 2)),\n",
      "    layers.Conv2D(64,  kernel_size = (3,3), activation='relu'),\n",
      "    layers.MaxPooling2D((2, 2)),\n",
      "    layers.Conv2D(64,  kernel_size = (3,3), activation='relu'),\n",
      "    layers.MaxPooling2D((2, 2)),\n",
      "    layers.Conv2D(64, (3, 3), activation='relu'),\n",
      "    layers.MaxPooling2D((2, 2)),\n",
      "    layers.Conv2D(64, (3, 3), activation='relu'),\n",
      "    layers.MaxPooling2D((2, 2)),\n",
      "    layers.Conv2D(64, (3, 3), activation='relu'),\n",
      "    layers.MaxPooling2D((2, 2)),\n",
      "    layers.Flatten(),\n",
      "    layers.Dense(64, activation='relu'),\n",
      "    layers.Dense(n_classes, activation='softmax'),\n",
      "])\n",
      "import tensorflow as tf\n",
      "from tensorflow.keras import models, layers\n",
      "import matplotlib.pyplot as plt\n",
      "from IPython.display import HTML\n",
      "\n",
      "from tensorflow.keras.preprocessing.image import ImageDataGenerator\n",
      "train_datagen = ImageDataGenerator(\n",
      "        rescale=1./255,\n",
      "        rotation_range=10,\n",
      "        horizontal_flip=True\n",
      ")\n",
      "train_generator = train_datagen.flow_from_directory(\n",
      "        'dataset/train',\n",
      "        target_size=(IMAGE_SIZE,IMAGE_SIZE),\n",
      "        batch_size=32,\n",
      "        class_mode=\"sparse\",\n",
      "#         save_to_dir=\"C:\\\\Code\\\\potato-disease-classification\\\\training\\\\AugmentedImages\"\n",
      ")\n",
      "train_datagen = ImageDataGenerator(\n",
      "        rescale=1./255,\n",
      "        rotation_range=10,\n",
      "        horizontal_flip=True\n",
      ")\n",
      "train_generator = train_datagen.flow_from_directory(\n",
      "        'dataset/train',\n",
      "        target_size=(IMAGE_SIZE,IMAGE_SIZE),\n",
      "        batch_size=32,\n",
      "        class_mode=\"sparse\",\n",
      "#         save_to_dir=\"C:\\\\Code\\\\potato-disease-classification\\\\training\\\\AugmentedImages\"\n",
      ")\n",
      "train_datagen = ImageDataGenerator(\n",
      "        rescale=1./255,\n",
      "        rotation_range=10,\n",
      "        horizontal_flip=True\n",
      ")\n",
      "train_generator = train_datagen.flow_from_directory(\n",
      "        'dataset/test',\n",
      "        target_size=(IMAGE_SIZE,IMAGE_SIZE),\n",
      "        batch_size=32,\n",
      "        class_mode=\"sparse\",\n",
      "#         save_to_dir=\"C:\\\\Code\\\\potato-disease-classification\\\\training\\\\AugmentedImages\"\n",
      ")\n",
      "train_datagen = ImageDataGenerator(\n",
      "        rescale=1./255,\n",
      "        rotation_range=10,\n",
      "        horizontal_flip=True\n",
      ")\n",
      "train_generator = train_datagen.flow_from_directory(\n",
      "        'dataset/train',\n",
      "        target_size=(IMAGE_SIZE,IMAGE_SIZE),\n",
      "        batch_size=32,\n",
      "        class_mode=\"sparse\",\n",
      "#         save_to_dir=\"C:\\\\Code\\\\potato-disease-classification\\\\training\\\\AugmentedImages\"\n",
      ")\n",
      "model.summary()\n",
      "model.compile(\n",
      "    optimizer='adam',\n",
      "    loss=tf.keras.losses.SparseCategoricalCrossentropy(from_logits=False),\n",
      "    metrics=['accuracy']\n",
      ")\n",
      "1506/32\n",
      "215/32\n",
      "history = model.fit(\n",
      "    train_generator,\n",
      "    steps_per_epoch=47,\n",
      "    batch_size=32,\n",
      "    validation_data=validation_generator,\n",
      "    validation_steps=6,\n",
      "    verbose=1,\n",
      "    epochs=20,\n",
      ")\n",
      "history.params\n",
      "history.history.keys()\n",
      "history\n"
     ]
    }
   ],
   "source": [
    "history"
   ]
  },
  {
   "cell_type": "code",
   "execution_count": 40,
   "id": "d0d4f44b",
   "metadata": {},
   "outputs": [
    {
     "ename": "NameError",
     "evalue": "name 'history' is not defined",
     "output_type": "error",
     "traceback": [
      "\u001b[1;31m---------------------------------------------------------------------------\u001b[0m",
      "\u001b[1;31mNameError\u001b[0m                                 Traceback (most recent call last)",
      "Cell \u001b[1;32mIn[40], line 1\u001b[0m\n\u001b[1;32m----> 1\u001b[0m history\u001b[38;5;241m.\u001b[39mparams\n",
      "\u001b[1;31mNameError\u001b[0m: name 'history' is not defined"
     ]
    }
   ],
   "source": [
    "history.params"
   ]
  },
  {
   "cell_type": "code",
   "execution_count": 41,
   "id": "e6b6c3e4",
   "metadata": {},
   "outputs": [
    {
     "ename": "IndexError",
     "evalue": "index 0 is out of bounds for axis 0 with size 0",
     "output_type": "error",
     "traceback": [
      "\u001b[1;31m---------------------------------------------------------------------------\u001b[0m",
      "\u001b[1;31mIndexError\u001b[0m                                Traceback (most recent call last)",
      "Cell \u001b[1;32mIn[41], line 5\u001b[0m\n\u001b[0;32m      1\u001b[0m \u001b[38;5;28;01mimport\u001b[39;00m \u001b[38;5;21;01mnumpy\u001b[39;00m \u001b[38;5;28;01mas\u001b[39;00m \u001b[38;5;21;01mnp\u001b[39;00m\n\u001b[0;32m      4\u001b[0m \u001b[38;5;28;01mfor\u001b[39;00m image_batch, label_batch \u001b[38;5;129;01min\u001b[39;00m test_generator:\n\u001b[1;32m----> 5\u001b[0m     first_image \u001b[38;5;241m=\u001b[39m image_batch[\u001b[38;5;241m0\u001b[39m]\n\u001b[0;32m      6\u001b[0m     first_label \u001b[38;5;241m=\u001b[39m \u001b[38;5;28mint\u001b[39m(labels_batch[\u001b[38;5;241m0\u001b[39m])\n\u001b[0;32m      8\u001b[0m     \u001b[38;5;28mprint\u001b[39m(\u001b[38;5;124m\"\u001b[39m\u001b[38;5;124mfirst image to predict\u001b[39m\u001b[38;5;124m\"\u001b[39m)\n",
      "\u001b[1;31mIndexError\u001b[0m: index 0 is out of bounds for axis 0 with size 0"
     ]
    }
   ],
   "source": [
    "import numpy as np\n",
    "\n",
    "\n",
    "for image_batch, label_batch in test_generator:\n",
    "    first_image = image_batch[0]\n",
    "    first_label = int(labels_batch[0])\n",
    "    \n",
    "    print(\"first image to predict\")\n",
    "    plt.imshow(first_image)\n",
    "    print(\"actual label:\",class_names[first_label])\n",
    "    \n",
    "    batch_prediction = model.predict(images_batch)\n",
    "    print(\"predicted label:\",class_names[np.argmax(batch_prediction[0])])\n",
    "    \n",
    "    break"
   ]
  },
  {
   "cell_type": "code",
   "execution_count": 42,
   "id": "579a7d8b",
   "metadata": {},
   "outputs": [
    {
     "name": "stderr",
     "output_type": "stream",
     "text": [
      "C:\\Users\\Sanket\\anaconda3\\Lib\\site-packages\\keras\\src\\engine\\training.py:3000: UserWarning: You are saving your model as an HDF5 file via `model.save()`. This file format is considered legacy. We recommend using instead the native Keras format, e.g. `model.save('my_model.keras')`.\n",
      "  saving_api.save_model(\n"
     ]
    }
   ],
   "source": [
    "model.save(\"../potatoes.h5\")\n"
   ]
  },
  {
   "cell_type": "code",
   "execution_count": null,
   "id": "50a451ba",
   "metadata": {},
   "outputs": [],
   "source": []
  }
 ],
 "metadata": {
  "kernelspec": {
   "display_name": "Python 3 (ipykernel)",
   "language": "python",
   "name": "python3"
  },
  "language_info": {
   "codemirror_mode": {
    "name": "ipython",
    "version": 3
   },
   "file_extension": ".py",
   "mimetype": "text/x-python",
   "name": "python",
   "nbconvert_exporter": "python",
   "pygments_lexer": "ipython3",
   "version": "3.11.3"
  }
 },
 "nbformat": 4,
 "nbformat_minor": 5
}
